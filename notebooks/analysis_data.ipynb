{
 "cells": [
  {
   "attachments": {},
   "cell_type": "markdown",
   "metadata": {},
   "source": [
    "## Pharmaceutical Sector Stock Analysis\n",
    "###  Download Stock prices of 4 big companies\n",
    "- ABT Abbott Laboratories\n",
    "- JNJ Johnson & Johnson\n",
    "- PFE Pfizer Inc\n",
    "- RHHVF Roche Holding AG \n",
    "### Source: yahoo finance\n",
    "library used <b>yfinance</b>"
   ]
  },
  {
   "attachments": {},
   "cell_type": "markdown",
   "metadata": {},
   "source": [
    "Import necessary libraries"
   ]
  },
  {
   "cell_type": "code",
   "execution_count": 17,
   "metadata": {},
   "outputs": [],
   "source": [
    "import numpy as np\n",
    "import pandas as pd\n",
    "from datetime import datetime\n",
    "from pandas import to_datetime\n",
    "import yfinance as yf\n",
    "import warnings"
   ]
  },
  {
   "attachments": {},
   "cell_type": "markdown",
   "metadata": {},
   "source": [
    "Download 4 stocks "
   ]
  },
  {
   "cell_type": "code",
   "execution_count": 18,
   "metadata": {},
   "outputs": [
    {
     "name": "stdout",
     "output_type": "stream",
     "text": [
      "[*********************100%***********************]  4 of 4 completed\n"
     ]
    }
   ],
   "source": [
    "warnings.filterwarnings(\"ignore\")\n",
    "pd.options.display.float_format = '{:.4%}'.format\n",
    "\n",
    "# Date range\n",
    "start = '2005-01-01'\n",
    "end = datetime.now().__format__('%Y-%m-%d')\n",
    "\n",
    "# Tickers of assets\n",
    "assets = ['ABT', 'JNJ', 'PFE', 'RHHVF']\n",
    "assets.sort()\n",
    "\n",
    "# Downloading data\n",
    "data = yf.download(assets, start = start, end = end)\n",
    "data = data.loc[:,('Adj Close', slice(None))]\n",
    "data.columns = assets"
   ]
  },
  {
   "cell_type": "code",
   "execution_count": 19,
   "metadata": {},
   "outputs": [
    {
     "data": {
      "text/html": [
       "<div>\n",
       "<style scoped>\n",
       "    .dataframe tbody tr th:only-of-type {\n",
       "        vertical-align: middle;\n",
       "    }\n",
       "\n",
       "    .dataframe tbody tr th {\n",
       "        vertical-align: top;\n",
       "    }\n",
       "\n",
       "    .dataframe thead th {\n",
       "        text-align: right;\n",
       "    }\n",
       "</style>\n",
       "<table border=\"1\" class=\"dataframe\">\n",
       "  <thead>\n",
       "    <tr style=\"text-align: right;\">\n",
       "      <th></th>\n",
       "      <th>ABT</th>\n",
       "      <th>JNJ</th>\n",
       "      <th>PFE</th>\n",
       "      <th>RHHVF</th>\n",
       "    </tr>\n",
       "    <tr>\n",
       "      <th>Date</th>\n",
       "      <th></th>\n",
       "      <th></th>\n",
       "      <th></th>\n",
       "      <th></th>\n",
       "    </tr>\n",
       "  </thead>\n",
       "  <tbody>\n",
       "    <tr>\n",
       "      <th>2009-02-17</th>\n",
       "      <td>-1.8384%</td>\n",
       "      <td>-1.9614%</td>\n",
       "      <td>-2.2634%</td>\n",
       "      <td>-0.9901%</td>\n",
       "    </tr>\n",
       "    <tr>\n",
       "      <th>2009-02-18</th>\n",
       "      <td>0.5006%</td>\n",
       "      <td>-0.2680%</td>\n",
       "      <td>-0.6316%</td>\n",
       "      <td>-0.8000%</td>\n",
       "    </tr>\n",
       "    <tr>\n",
       "      <th>2009-02-19</th>\n",
       "      <td>0.4797%</td>\n",
       "      <td>0.1791%</td>\n",
       "      <td>-0.9181%</td>\n",
       "      <td>0.0000%</td>\n",
       "    </tr>\n",
       "    <tr>\n",
       "      <th>2009-02-20</th>\n",
       "      <td>-0.7895%</td>\n",
       "      <td>-1.4783%</td>\n",
       "      <td>-2.2808%</td>\n",
       "      <td>0.0000%</td>\n",
       "    </tr>\n",
       "    <tr>\n",
       "      <th>2009-02-23</th>\n",
       "      <td>-1.1660%</td>\n",
       "      <td>-1.8298%</td>\n",
       "      <td>-3.2093%</td>\n",
       "      <td>0.0000%</td>\n",
       "    </tr>\n",
       "  </tbody>\n",
       "</table>\n",
       "</div>"
      ],
      "text/plain": [
       "                ABT      JNJ      PFE    RHHVF\n",
       "Date                                          \n",
       "2009-02-17 -1.8384% -1.9614% -2.2634% -0.9901%\n",
       "2009-02-18  0.5006% -0.2680% -0.6316% -0.8000%\n",
       "2009-02-19  0.4797%  0.1791% -0.9181%  0.0000%\n",
       "2009-02-20 -0.7895% -1.4783% -2.2808%  0.0000%\n",
       "2009-02-23 -1.1660% -1.8298% -3.2093%  0.0000%"
      ]
     },
     "metadata": {},
     "output_type": "display_data"
    }
   ],
   "source": [
    "# Calculating returns\n",
    "Y = data[assets].pct_change().dropna()\n",
    "display(Y.head())"
   ]
  },
  {
   "attachments": {},
   "cell_type": "markdown",
   "metadata": {},
   "source": [
    "Get other data for the last month from yahoo finanace - history returns Dividends\tStock Splits"
   ]
  },
  {
   "cell_type": "code",
   "execution_count": 20,
   "metadata": {},
   "outputs": [
    {
     "data": {
      "text/html": [
       "<div>\n",
       "<style scoped>\n",
       "    .dataframe tbody tr th:only-of-type {\n",
       "        vertical-align: middle;\n",
       "    }\n",
       "\n",
       "    .dataframe tbody tr th {\n",
       "        vertical-align: top;\n",
       "    }\n",
       "\n",
       "    .dataframe thead th {\n",
       "        text-align: right;\n",
       "    }\n",
       "</style>\n",
       "<table border=\"1\" class=\"dataframe\">\n",
       "  <thead>\n",
       "    <tr style=\"text-align: right;\">\n",
       "      <th></th>\n",
       "      <th>Holder</th>\n",
       "      <th>Shares</th>\n",
       "      <th>Date Reported</th>\n",
       "      <th>% Out</th>\n",
       "      <th>Value</th>\n",
       "    </tr>\n",
       "  </thead>\n",
       "  <tbody>\n",
       "    <tr>\n",
       "      <th>0</th>\n",
       "      <td>Vanguard International Stock Index-Total Intl ...</td>\n",
       "      <td>9219286</td>\n",
       "      <td>2022-10-30</td>\n",
       "      <td>1.3100%</td>\n",
       "      <td>2592168199</td>\n",
       "    </tr>\n",
       "    <tr>\n",
       "      <th>1</th>\n",
       "      <td>Vanguard Tax Managed Fund-Vanguard Developed M...</td>\n",
       "      <td>5160487</td>\n",
       "      <td>2022-09-29</td>\n",
       "      <td>0.7300%</td>\n",
       "      <td>1450963805</td>\n",
       "    </tr>\n",
       "    <tr>\n",
       "      <th>2</th>\n",
       "      <td>iShares Core MSCI EAFE ETF</td>\n",
       "      <td>3731444</td>\n",
       "      <td>2022-12-30</td>\n",
       "      <td>0.5300%</td>\n",
       "      <td>1049162643</td>\n",
       "    </tr>\n",
       "    <tr>\n",
       "      <th>3</th>\n",
       "      <td>Dodge &amp; Cox International Stock Fund</td>\n",
       "      <td>3311200</td>\n",
       "      <td>2022-12-30</td>\n",
       "      <td>0.4700%</td>\n",
       "      <td>931003479</td>\n",
       "    </tr>\n",
       "    <tr>\n",
       "      <th>4</th>\n",
       "      <td>iShares MSCI Eafe ETF</td>\n",
       "      <td>2254203</td>\n",
       "      <td>2022-12-30</td>\n",
       "      <td>0.3200%</td>\n",
       "      <td>633809747</td>\n",
       "    </tr>\n",
       "    <tr>\n",
       "      <th>5</th>\n",
       "      <td>Vanguard/Primecap Fund</td>\n",
       "      <td>1722423</td>\n",
       "      <td>2022-09-29</td>\n",
       "      <td>0.2500%</td>\n",
       "      <td>484290228</td>\n",
       "    </tr>\n",
       "    <tr>\n",
       "      <th>6</th>\n",
       "      <td>Fidelity International Index Fund</td>\n",
       "      <td>1748387</td>\n",
       "      <td>2022-11-29</td>\n",
       "      <td>0.2500%</td>\n",
       "      <td>491590474</td>\n",
       "    </tr>\n",
       "    <tr>\n",
       "      <th>7</th>\n",
       "      <td>MFS International Growth Fund</td>\n",
       "      <td>1685557</td>\n",
       "      <td>2022-11-29</td>\n",
       "      <td>0.2400%</td>\n",
       "      <td>473924689</td>\n",
       "    </tr>\n",
       "    <tr>\n",
       "      <th>8</th>\n",
       "      <td>Fidelity Series International Growth Fund</td>\n",
       "      <td>1594164</td>\n",
       "      <td>2022-12-30</td>\n",
       "      <td>0.2300%</td>\n",
       "      <td>448227902</td>\n",
       "    </tr>\n",
       "    <tr>\n",
       "      <th>9</th>\n",
       "      <td>MFS Research International Fund</td>\n",
       "      <td>1515423</td>\n",
       "      <td>2022-11-29</td>\n",
       "      <td>0.2200%</td>\n",
       "      <td>426088452</td>\n",
       "    </tr>\n",
       "  </tbody>\n",
       "</table>\n",
       "</div>"
      ],
      "text/plain": [
       "                                              Holder   Shares Date Reported  \\\n",
       "0  Vanguard International Stock Index-Total Intl ...  9219286    2022-10-30   \n",
       "1  Vanguard Tax Managed Fund-Vanguard Developed M...  5160487    2022-09-29   \n",
       "2                         iShares Core MSCI EAFE ETF  3731444    2022-12-30   \n",
       "3               Dodge & Cox International Stock Fund  3311200    2022-12-30   \n",
       "4                              iShares MSCI Eafe ETF  2254203    2022-12-30   \n",
       "5                             Vanguard/Primecap Fund  1722423    2022-09-29   \n",
       "6                  Fidelity International Index Fund  1748387    2022-11-29   \n",
       "7                      MFS International Growth Fund  1685557    2022-11-29   \n",
       "8          Fidelity Series International Growth Fund  1594164    2022-12-30   \n",
       "9                    MFS Research International Fund  1515423    2022-11-29   \n",
       "\n",
       "    % Out       Value  \n",
       "0 1.3100%  2592168199  \n",
       "1 0.7300%  1450963805  \n",
       "2 0.5300%  1049162643  \n",
       "3 0.4700%   931003479  \n",
       "4 0.3200%   633809747  \n",
       "5 0.2500%   484290228  \n",
       "6 0.2500%   491590474  \n",
       "7 0.2400%   473924689  \n",
       "8 0.2300%   448227902  \n",
       "9 0.2200%   426088452  "
      ]
     },
     "execution_count": 20,
     "metadata": {},
     "output_type": "execute_result"
    }
   ],
   "source": [
    "msft = yf.Ticker(\"RHHVF\")\n",
    "msft.fast_info\n",
    "# get historical market data\n",
    "hist = msft.history(period=\"1mo\")\n",
    "# show meta information about the history (requires history() to be called first)\n",
    "msft.history_metadata\n",
    "# show actions (dividends, splits, capital gains)\n",
    "msft.actions\n",
    "msft.dividends\n",
    "msft.splits\n",
    "msft.get_shares_full(start=\"2023-03-17\", end=None)\n",
    "msft.major_holders\n",
    "msft.institutional_holders\n",
    "msft.mutualfund_holders"
   ]
  },
  {
   "attachments": {},
   "cell_type": "markdown",
   "metadata": {},
   "source": [
    "Read saved data from local file in percent change format"
   ]
  },
  {
   "cell_type": "code",
   "execution_count": 21,
   "metadata": {},
   "outputs": [
    {
     "data": {
      "text/html": [
       "<div>\n",
       "<style scoped>\n",
       "    .dataframe tbody tr th:only-of-type {\n",
       "        vertical-align: middle;\n",
       "    }\n",
       "\n",
       "    .dataframe tbody tr th {\n",
       "        vertical-align: top;\n",
       "    }\n",
       "\n",
       "    .dataframe thead th {\n",
       "        text-align: right;\n",
       "    }\n",
       "</style>\n",
       "<table border=\"1\" class=\"dataframe\">\n",
       "  <thead>\n",
       "    <tr style=\"text-align: right;\">\n",
       "      <th></th>\n",
       "      <th>ABT</th>\n",
       "      <th>JNJ</th>\n",
       "      <th>PFE</th>\n",
       "      <th>RHHVF</th>\n",
       "    </tr>\n",
       "    <tr>\n",
       "      <th>Date</th>\n",
       "      <th></th>\n",
       "      <th></th>\n",
       "      <th></th>\n",
       "      <th></th>\n",
       "    </tr>\n",
       "  </thead>\n",
       "  <tbody>\n",
       "    <tr>\n",
       "      <th>2009-02-17</th>\n",
       "      <td>-1.8383%</td>\n",
       "      <td>-1.9615%</td>\n",
       "      <td>-2.2634%</td>\n",
       "      <td>-0.9901%</td>\n",
       "    </tr>\n",
       "    <tr>\n",
       "      <th>2009-02-18</th>\n",
       "      <td>0.5006%</td>\n",
       "      <td>-0.2679%</td>\n",
       "      <td>-0.6316%</td>\n",
       "      <td>-0.8000%</td>\n",
       "    </tr>\n",
       "    <tr>\n",
       "      <th>2009-02-19</th>\n",
       "      <td>0.4797%</td>\n",
       "      <td>0.1791%</td>\n",
       "      <td>-0.9181%</td>\n",
       "      <td>0.0000%</td>\n",
       "    </tr>\n",
       "    <tr>\n",
       "      <th>2009-02-20</th>\n",
       "      <td>-0.7895%</td>\n",
       "      <td>-1.4783%</td>\n",
       "      <td>-2.2808%</td>\n",
       "      <td>0.0000%</td>\n",
       "    </tr>\n",
       "    <tr>\n",
       "      <th>2009-02-23</th>\n",
       "      <td>-1.1660%</td>\n",
       "      <td>-1.8298%</td>\n",
       "      <td>-3.2094%</td>\n",
       "      <td>0.0000%</td>\n",
       "    </tr>\n",
       "  </tbody>\n",
       "</table>\n",
       "</div>"
      ],
      "text/plain": [
       "                ABT      JNJ      PFE    RHHVF\n",
       "Date                                          \n",
       "2009-02-17 -1.8383% -1.9615% -2.2634% -0.9901%\n",
       "2009-02-18  0.5006% -0.2679% -0.6316% -0.8000%\n",
       "2009-02-19  0.4797%  0.1791% -0.9181%  0.0000%\n",
       "2009-02-20 -0.7895% -1.4783% -2.2808%  0.0000%\n",
       "2009-02-23 -1.1660% -1.8298% -3.2094%  0.0000%"
      ]
     },
     "metadata": {},
     "output_type": "display_data"
    }
   ],
   "source": [
    "data = pd.read_csv(\"/home/becode/Desktop/Time Series/venv/scr/data/yfin_AdjClose.csv\", index_col='Date')\n",
    "Y = data.pct_change().dropna()\n",
    "display(Y.head())"
   ]
  },
  {
   "attachments": {},
   "cell_type": "markdown",
   "metadata": {},
   "source": [
    "Remove (negative) infinite numbers from data, create DataFrame for a single stock"
   ]
  },
  {
   "cell_type": "code",
   "execution_count": 22,
   "metadata": {},
   "outputs": [
    {
     "name": "stdout",
     "output_type": "stream",
     "text": [
      "(4584, 1)\n",
      "<class 'pandas.core.frame.DataFrame'>\n"
     ]
    },
    {
     "data": {
      "text/html": [
       "<div>\n",
       "<style scoped>\n",
       "    .dataframe tbody tr th:only-of-type {\n",
       "        vertical-align: middle;\n",
       "    }\n",
       "\n",
       "    .dataframe tbody tr th {\n",
       "        vertical-align: top;\n",
       "    }\n",
       "\n",
       "    .dataframe thead th {\n",
       "        text-align: right;\n",
       "    }\n",
       "</style>\n",
       "<table border=\"1\" class=\"dataframe\">\n",
       "  <thead>\n",
       "    <tr style=\"text-align: right;\">\n",
       "      <th></th>\n",
       "      <th>ABT</th>\n",
       "    </tr>\n",
       "    <tr>\n",
       "      <th>Date</th>\n",
       "      <th></th>\n",
       "    </tr>\n",
       "  </thead>\n",
       "  <tbody>\n",
       "    <tr>\n",
       "      <th>2013-10-01</th>\n",
       "      <td>1.7777%</td>\n",
       "    </tr>\n",
       "    <tr>\n",
       "      <th>2008-08-25</th>\n",
       "      <td>-1.2312%</td>\n",
       "    </tr>\n",
       "    <tr>\n",
       "      <th>2013-02-21</th>\n",
       "      <td>-0.7532%</td>\n",
       "    </tr>\n",
       "    <tr>\n",
       "      <th>2022-06-30</th>\n",
       "      <td>-0.4125%</td>\n",
       "    </tr>\n",
       "    <tr>\n",
       "      <th>2007-08-15</th>\n",
       "      <td>-0.2287%</td>\n",
       "    </tr>\n",
       "  </tbody>\n",
       "</table>\n",
       "</div>"
      ],
      "text/plain": [
       "                ABT\n",
       "Date               \n",
       "2013-10-01  1.7777%\n",
       "2008-08-25 -1.2312%\n",
       "2013-02-21 -0.7532%\n",
       "2022-06-30 -0.4125%\n",
       "2007-08-15 -0.2287%"
      ]
     },
     "execution_count": 22,
     "metadata": {},
     "output_type": "execute_result"
    }
   ],
   "source": [
    "data = pd.read_csv(\"/home/becode/Desktop/Time Series/venv/scr/data/yfin_AdjClose.csv\", index_col='Date')\n",
    "data = data.replace([np.inf, -np.inf], np.nan)\n",
    "# select only RHHVF (Roche)\n",
    "#Y = data.iloc[:,[3]].pct_change().dropna()\n",
    "\n",
    "# compute relative values to the whole of percent change of ABT(Abbott Labs)\n",
    "Y = data.iloc[:,:1].pct_change().dropna()\n",
    "print(data.iloc[:,:1].shape)\n",
    "print(type(data.iloc[:,:1]))\n",
    "Y = Y.sample(10)\n",
    "Y.head()"
   ]
  },
  {
   "attachments": {},
   "cell_type": "markdown",
   "metadata": {},
   "source": [
    "Clean negative values, drop null values, Check again for np.nan and infinite values"
   ]
  },
  {
   "cell_type": "code",
   "execution_count": 23,
   "metadata": {},
   "outputs": [
    {
     "name": "stdout",
     "output_type": "stream",
     "text": [
      "ABT      0\n",
      "JNJ      0\n",
      "PFE      0\n",
      "RHHVF    0\n",
      "dtype: int64\n",
      "ABT      3547\n",
      "JNJ      3547\n",
      "PFE      3547\n",
      "RHHVF    3547\n",
      "dtype: int64\n"
     ]
    }
   ],
   "source": [
    "Y = data.pct_change().dropna()\n",
    "Y = Y.replace([np.inf, -np.inf], np.nan)\n",
    "Y = Y.dropna()\n",
    "print(np.isnan(Y).sum())\n",
    "print(np.isfinite(Y).sum())"
   ]
  },
  {
   "attachments": {},
   "cell_type": "markdown",
   "metadata": {},
   "source": [
    "### Visualize data of a single stock"
   ]
  },
  {
   "cell_type": "code",
   "execution_count": 24,
   "metadata": {},
   "outputs": [
    {
     "name": "stdout",
     "output_type": "stream",
     "text": [
      "[*********************100%***********************]  1 of 1 completed\n"
     ]
    }
   ],
   "source": [
    "start_date = datetime(2005, 1, 1)\n",
    "end_date = to_datetime(datetime.now().__format__('%Y-%m-%d'))\n",
    "df = yf.download( 'JNJ',\n",
    "    start=start_date,\n",
    "    end = end_date\n",
    ")"
   ]
  },
  {
   "cell_type": "code",
   "execution_count": 25,
   "metadata": {},
   "outputs": [
    {
     "data": {
      "text/plain": [
       "Text(0.5, 0, 'Date')"
      ]
     },
     "execution_count": 25,
     "metadata": {},
     "output_type": "execute_result"
    },
    {
     "data": {
      "image/png": "[encoded data removed]",
      "text/plain": [
       "<Figure size 640x480 with 1 Axes>"
      ]
     },
     "metadata": {},
     "output_type": "display_data"
    }
   ],
   "source": [
    "import matplotlib.pyplot as plt\n",
    "plt.title('Opening Prices between {} and {}'.format(\n",
    "    start_date.date().isoformat(),\n",
    "    end_date.date().isoformat()\n",
    "))\n",
    "df['Open'].plot()\n",
    "plt.ylabel('Price')\n",
    "plt.xlabel('Date')"
   ]
  },
  {
   "attachments": {},
   "cell_type": "markdown",
   "metadata": {},
   "source": [
    "Resample weekly and compare the results with previous"
   ]
  },
  {
   "cell_type": "code",
   "execution_count": 26,
   "metadata": {},
   "outputs": [
    {
     "data": {
      "text/plain": [
       "Date\n",
       "2005-01-09   6300.9999%\n",
       "2005-01-16   6282.6000%\n",
       "2005-01-23   6261.0000%\n",
       "2005-01-30   6314.8000%\n",
       "2005-02-06   6519.8000%\n",
       "Name: Open, dtype: float64"
      ]
     },
     "metadata": {},
     "output_type": "display_data"
    },
    {
     "data": {
      "text/plain": [
       "Text(0.5, 0, 'Date')"
      ]
     },
     "execution_count": 26,
     "metadata": {},
     "output_type": "execute_result"
    },
    {
     "data": {
      "image/png": "[encoded data removed]",
      "text/plain": [
       "<Figure size 640x480 with 1 Axes>"
      ]
     },
     "metadata": {},
     "output_type": "display_data"
    }
   ],
   "source": [
    "df = df.reset_index().resample('W', on=\"Date\")['Open'].mean()\n",
    "df = df[df.index.week < 53]\n",
    "display(df.head())\n",
    "\n",
    "plt.title('Opening Prices between {} and {}'.format(\n",
    "    start_date.date().isoformat(),\n",
    "    end_date.date().isoformat()\n",
    "))\n",
    "df.plot()\n",
    "plt.ylabel('Price')\n",
    "plt.xlabel('Date')"
   ]
  }
 ],
 "metadata": {
  "kernelspec": {
   "display_name": "venv",
   "language": "python",
   "name": "python3"
  },
  "language_info": {
   "codemirror_mode": {
    "name": "ipython",
    "version": 3
   },
   "file_extension": ".py",
   "mimetype": "text/x-python",
   "name": "python",
   "nbconvert_exporter": "python",
   "pygments_lexer": "ipython3",
   "version": "3.8.10"
  },
  "orig_nbformat": 4
 },
 "nbformat": 4,
 "nbformat_minor": 2
}
